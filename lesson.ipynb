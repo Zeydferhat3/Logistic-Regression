{
 "cells": [
  {
   "cell_type": "markdown",
   "id": "b6626198-c832-4cee-a84e-4f1655bd7f11",
   "metadata": {},
   "source": [
    "# Lesson: Binary Logistic Regression\n",
    "\n",
    "## Objective\n",
    "Introduce students to binary logistic regression, a statistical method used for modeling the relationship between a binary dependent variable and one or more independent variables.\n",
    "\n",
    "\n",
    "### Introduction to Logistic Regression:\n",
    "\n",
    "- **Definition**: Binary Logistic regression is a statistical method used to predict the likelihood of a binary outcome (yes/no, 1/0) based on input factors.\n",
    "\n",
    "- **Applications**: Here, we use a binary classification approach, with the target variable coded as 0 to represent a lower chance of a heart attack and 1 to signify a higher chance of a heart attack. This application allows us to:\n",
    "\n",
    "Evaluate and understand the factors contributing to heart attack risk.\n",
    "Create a model that estimates the probability of an individual experiencing a heart attack.\n",
    "\n",
    "\n",
    "\n",
    "### Equations:\n",
    "\n",
    "- **Logistic Function**:\n",
    "\n",
    "$$P(Y = 1) = \\frac{1}{1 + e^{-(β₀ + β₁x₁ + β₂x₂ + ... + βₙxₙ)}}$$\n",
    "\n",
    "\n",
    "\n"
   ]
  }
 ],
 "metadata": {
  "kernelspec": {
   "display_name": "Python 3 (ipykernel)",
   "language": "python",
   "name": "python3"
  },
  "language_info": {
   "codemirror_mode": {
    "name": "ipython",
    "version": 3
   },
   "file_extension": ".py",
   "mimetype": "text/x-python",
   "name": "python",
   "nbconvert_exporter": "python",
   "pygments_lexer": "ipython3",
   "version": "3.11.5"
  }
 },
 "nbformat": 4,
 "nbformat_minor": 5
}
